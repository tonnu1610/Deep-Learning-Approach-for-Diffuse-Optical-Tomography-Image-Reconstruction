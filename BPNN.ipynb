{
 "cells": [
  {
   "cell_type": "markdown",
   "metadata": {
    "id": "sd3pwBqbGVNP"
   },
   "source": [
    "### Import libraries"
   ]
  },
  {
   "cell_type": "code",
   "execution_count": 3,
   "metadata": {
    "id": "HFoTIyLtnPDy"
   },
   "outputs": [],
   "source": [
    "import numpy as np\n",
    "import pandas as pd\n",
    "import matplotlib.pyplot as plt\n",
    "import seaborn as sns\n",
    "import torch\n",
    "import torch.nn as nn\n",
    "import torch.optim as optim\n",
    "import torch.nn.functional as F\n",
    "from torch.utils.data import Dataset, DataLoader, random_split\n",
    "from skimage.metrics import peak_signal_noise_ratio, structural_similarity"
   ]
  },
  {
   "cell_type": "code",
   "execution_count": 4,
   "metadata": {
    "id": "8YVNCt-gqHQV"
   },
   "outputs": [],
   "source": [
    "device = torch.device('cuda' if torch.cuda.is_available() else 'cpu')"
   ]
  },
  {
   "cell_type": "markdown",
   "metadata": {
    "id": "XpkfErQ5pTeU"
   },
   "source": [
    "### DataLoader"
   ]
  },
  {
   "cell_type": "code",
   "execution_count": 5,
   "metadata": {
    "id": "-iD74HEupSo9"
   },
   "outputs": [],
   "source": [
    "input_path = '/home/nn_unet_for_anh/Dataset/inputData1T_5K.xlsx'\n",
    "output_path = '/home/nn_unet_for_anh/Dataset/outputData1T_5K.xlsx'"
   ]
  },
  {
   "cell_type": "code",
   "execution_count": 6,
   "metadata": {
    "id": "5haJFlSypR1l"
   },
   "outputs": [],
   "source": [
    "class DOTDataset(Dataset):\n",
    "    \"\"\"\n",
    "    Custom Dataset for Diffuse Optical Tomography (DOT) data\n",
    "    Args:\n",
    "        x_data (np.ndarray): Input measurement vectors.\n",
    "        y_data (np.ndarray): Output absorption coefficient vectors.\n",
    "    \"\"\"\n",
    "    def __init__(self, x_data, y_data):\n",
    "        self.X = x_data\n",
    "        self.Y = y_data\n",
    "\n",
    "        # Raise error if number of input samples and output samples do not match.\n",
    "        assert self.X.shape[0] == self.Y.shape[0], 'Mismatch in number of samples'\n",
    "\n",
    "    def __len__(self):\n",
    "        \"\"\"Return the number of samples in the dataset.\"\"\"\n",
    "        return len(self.X)\n",
    "\n",
    "    def __getitem__(self, idx):\n",
    "        \"\"\"\n",
    "        Retrieve one sample by index.\n",
    "        Args:\n",
    "            idx (int): Index of the sample.\n",
    "        \"\"\"\n",
    "        x = torch.tensor(self.X[idx])\n",
    "        y = torch.tensor(self.Y[idx])\n",
    "\n",
    "        return x, y\n",
    "\n",
    "\n",
    "def get_dataloaders(x_path, y_path, val_ratio=0.1, test_ratio=0.1):\n",
    "    \"\"\"\n",
    "    Load DOT data from Excel files, normalize them, and split into train, validation, and test sets.\n",
    "\n",
    "    Args:\n",
    "        x_path (str): Path to the Excel file containing input.\n",
    "        y_path (str): Path to the Excel file containing output.\n",
    "        val_ratio (float): Fraction of the dataset to use for validation.\n",
    "        test_ratio (float): Fraction of the dataset to use for testing.\n",
    "    \"\"\"\n",
    "    # Load data from Excel and transpose to shape (N_samples, N_features)\n",
    "    X_full = pd.read_excel(x_path, header=None).T.values.astype('float32')\n",
    "    Y_full = pd.read_excel(y_path, header=None).T.values.astype('float32')\n",
    "\n",
    "    # Normalize the input to range [0, 1]\n",
    "    max_val_X = X_full.max()\n",
    "    X_full = X_full / max_val_X\n",
    "\n",
    "    # Normalize the output to range [0, 1]\n",
    "    max_val_Y = Y_full.max()\n",
    "    Y_full = Y_full / max_val_Y\n",
    "\n",
    "    normalization_params = {\n",
    "        'x_max': max_val_X,\n",
    "        'y_max': max_val_Y\n",
    "    }\n",
    "\n",
    "    # Create a dataset\n",
    "    dataset = DOTDataset(X_full, Y_full)\n",
    "\n",
    "    # Split dataset into train, validation, and test sets. \n",
    "    total = len(dataset)\n",
    "    val_size = int(total * val_ratio)\n",
    "    test_size = int(total * test_ratio)\n",
    "    train_size = total - val_size - test_size\n",
    "\n",
    "    train_set, val_set, test_set = random_split(dataset, [train_size, val_size, test_size])\n",
    "\n",
    "    # Create DataLoader with full-batch loading\n",
    "    train_loader = DataLoader(train_set, batch_size=len(train_set), shuffle=False)\n",
    "    val_loader = DataLoader(val_set, batch_size=len(val_set), shuffle=False)\n",
    "    test_loader = DataLoader(test_set, batch_size=len(test_set), shuffle=False)\n",
    "\n",
    "    return train_loader, val_loader, test_loader, normalization_params"
   ]
  },
  {
   "cell_type": "code",
   "execution_count": 7,
   "metadata": {
    "colab": {
     "base_uri": "https://localhost:8080/"
    },
    "id": "g2C7lrDwp6W1",
    "outputId": "8e824a04-bb60-4390-9404-3b806dca6f06"
   },
   "outputs": [
    {
     "name": "stdout",
     "output_type": "stream",
     "text": [
      "torch.Size([4000, 240])\n",
      "torch.Size([4000, 1785])\n"
     ]
    }
   ],
   "source": [
    "train_loader, val_loader, test_loader, norm_params = get_dataloaders(input_path, output_path)\n",
    "\n",
    "for x_batch, y_batch in train_loader:\n",
    "    print(x_batch.shape)    #expected: [4000, 240] for 1D\n",
    "    print(y_batch.shape)    #expected: [4000, 1785] for 1D\n",
    "    break"
   ]
  },
  {
   "cell_type": "markdown",
   "metadata": {
    "id": "NYB2X3e9pVVE"
   },
   "source": [
    "### Backpropagation Neural Network (BPNN)"
   ]
  },
  {
   "cell_type": "code",
   "execution_count": 8,
   "metadata": {
    "id": "P5IjC-gsB1CO"
   },
   "outputs": [],
   "source": [
    "class BPNN(nn.Module):\n",
    "    \"\"\"\n",
    "    Backpropagation Neural Network (BPNN) for DOT image reconstruction with one hidden layer.\n",
    "    Args:\n",
    "        input_dim (int): Dimensionality of the input vector. Default is 240.\n",
    "        hidden_dim (int): Number of hidden units. Default is 656.\n",
    "        output_dim (int): Dimensionality of the output vector. Default is 1785.\n",
    "    \"\"\"\n",
    "    def __init__(self, input_dim=240, hidden_dim=656, output_dim=1785):\n",
    "        super(BPNN, self).__init__()\n",
    "        self.fc1 = nn.Linear(input_dim, hidden_dim)\n",
    "        self.fc2 = nn.Linear(hidden_dim, output_dim)\n",
    "        self.act = nn.Tanh()\n",
    "\n",
    "    def forward(self, x):\n",
    "        \"\"\" Forward pass of the BPNN. \"\"\"\n",
    "        x = self.fc1(x)\n",
    "        x = self.act(x)\n",
    "        x = self.fc2(x)\n",
    "\n",
    "        return x"
   ]
  },
  {
   "cell_type": "markdown",
   "metadata": {
    "id": "RcgBR_UlqCs6"
   },
   "source": [
    "### Training Loop"
   ]
  },
  {
   "cell_type": "code",
   "execution_count": 10,
   "metadata": {
    "id": "OFZr7x6-qBwc"
   },
   "outputs": [],
   "source": [
    "def train_model(model, train_loader, val_loader, epochs=50, lr=1e-5, weight_decay=1e-8):\n",
    "    \"\"\"\n",
    "    Train a neural network model using MSE loss and Adam optimizer.\n",
    "    Args:\n",
    "        model (torch.nn.Module): The neural network model to be trained.\n",
    "        train_loader (DataLoader): DataLoader for the training set.\n",
    "        val_loader (DataLoader): DataLoader for the validation set.\n",
    "        epochs (int): Number of training epochs. Default is 50.\n",
    "        lr (float): Learning rate for the optimizer. Default is 1e-5.\n",
    "        weight_decay (float): Weight decay (L2 regularization) for the optimizer. Default is 1e-8.\n",
    "    Returns:\n",
    "            - The trained model,\n",
    "            - List of training losses per epoch,\n",
    "            - List of validation losses per epoch.\n",
    "    \"\"\"\n",
    "    model = model.to(device)\n",
    "    optimizer = optim.Adam(model.parameters(), lr=lr, weight_decay=weight_decay)\n",
    "    criterion = nn.MSELoss()\n",
    "\n",
    "    best_val_loss = float('inf')\n",
    "    train_losses, val_losses = [], []\n",
    "\n",
    "    for epoch in range(epochs):\n",
    "        # ------ Training ---------\n",
    "        model.train()\n",
    "        train_loss = 0.0\n",
    "\n",
    "        for x_batch, y_batch in train_loader:\n",
    "            x_batch, y_batch = x_batch.to(device), y_batch.to(device)\n",
    "\n",
    "            optimizer.zero_grad()\n",
    "            output = model(x_batch)\n",
    "            loss = criterion(output, y_batch)\n",
    "            loss.backward()\n",
    "            optimizer.step()\n",
    "\n",
    "            train_loss += loss.item() * x_batch.size(0)\n",
    "\n",
    "        train_loss /= len(train_loader.dataset)\n",
    "\n",
    "        # ------ Validation ---------\n",
    "        model.eval()\n",
    "        val_loss = 0.0\n",
    "\n",
    "        with torch.no_grad():\n",
    "            for x_batch, y_batch in val_loader:\n",
    "                x_batch, y_batch = x_batch.to(device), y_batch.to(device)\n",
    "\n",
    "                output = model(x_batch)\n",
    "                loss = criterion(output, y_batch)\n",
    "                \n",
    "                val_loss += loss.item() * x_batch.size(0)\n",
    "\n",
    "        val_loss /= len(val_loader.dataset)\n",
    "\n",
    "        train_losses.append(train_loss)\n",
    "        val_losses.append(val_loss)\n",
    "        \n",
    "        if (epoch+1) % 1000 == 0:\n",
    "            print(f'Epoch {epoch+1}/{epochs} | Train Loss: {train_loss:.6f} | Val Loss: {val_loss:.6f}')\n",
    "\n",
    "            if val_loss < best_val_loss:\n",
    "                best_val_loss = val_loss\n",
    "                torch.save(model.state_dict(), 'best_model.pth')\n",
    "                print('Best model saved')\n",
    "\n",
    "    print('Training Complete')\n",
    "    return model, train_losses, val_losses\n"
   ]
  },
  {
   "cell_type": "code",
   "execution_count": 11,
   "metadata": {
    "colab": {
     "base_uri": "https://localhost:8080/",
     "height": 1000
    },
    "id": "U3Df-7ostxmt",
    "outputId": "417e87ae-1ca5-44b8-ff12-350610a52ffa"
   },
   "outputs": [
    {
     "name": "stdout",
     "output_type": "stream",
     "text": [
      "Epoch 1000/10000 | Train Loss: 0.007191 | Val Loss: 0.007288\n",
      "Best model saved\n",
      "Epoch 2000/10000 | Train Loss: 0.006707 | Val Loss: 0.006784\n",
      "Best model saved\n",
      "Epoch 3000/10000 | Train Loss: 0.006384 | Val Loss: 0.006460\n",
      "Best model saved\n",
      "Epoch 4000/10000 | Train Loss: 0.006275 | Val Loss: 0.006414\n",
      "Best model saved\n",
      "Epoch 5000/10000 | Train Loss: 0.006193 | Val Loss: 0.006180\n",
      "Best model saved\n",
      "Epoch 6000/10000 | Train Loss: 0.005996 | Val Loss: 0.006049\n",
      "Best model saved\n",
      "Epoch 7000/10000 | Train Loss: 0.005894 | Val Loss: 0.005956\n",
      "Best model saved\n",
      "Epoch 8000/10000 | Train Loss: 0.005863 | Val Loss: 0.005906\n",
      "Best model saved\n",
      "Epoch 9000/10000 | Train Loss: 0.005725 | Val Loss: 0.005787\n",
      "Best model saved\n",
      "Epoch 10000/10000 | Train Loss: 0.005657 | Val Loss: 0.005722\n",
      "Best model saved\n",
      "Training Complete\n"
     ]
    },
    {
     "data": {
      "image/png": "[encoded data removed]",
      "text/plain": [
       "<Figure size 1000x500 with 1 Axes>"
      ]
     },
     "metadata": {},
     "output_type": "display_data"
    }
   ],
   "source": [
    "model = BPNN(input_dim=240, hidden_dim=656, output_dim=1785)\n",
    "model, train_losses, val_losses = train_model(model, train_loader, val_loader, epochs=10000, lr=5e-4, weight_decay=0)\n",
    "\n",
    "plt.figure(figsize=(10, 5))\n",
    "plt.plot(train_losses, label='Train Loss')\n",
    "plt.plot(val_losses, label='Val Loss')\n",
    "plt.xlabel('Epochs')\n",
    "plt.ylabel('Loss')\n",
    "plt.title('Training and Validation Loss')\n",
    "plt.legend()\n",
    "plt.tight_layout()\n",
    "plt.show()"
   ]
  },
  {
   "cell_type": "markdown",
   "metadata": {},
   "source": [
    "### Evaluation"
   ]
  },
  {
   "cell_type": "code",
   "execution_count": 18,
   "metadata": {},
   "outputs": [],
   "source": [
    "def _ssim_global(x: np.ndarray,\n",
    "                 y: np.ndarray,\n",
    "                 c1: float = 1e-4,\n",
    "                 c2: float = 1e-4) -> float:\n",
    "    \"\"\"\n",
    "    Global‑mean SSIM as\n",
    "        (2 μ_x μ_y + c1)(2 σ_xy + c2)\n",
    "    -----------------------------------\n",
    "        (μ_x² + μ_y² + c1)(σ_x² + σ_y² + c2)\n",
    "\n",
    "    • Works for 2‑D (H×W) or 3‑D (H×W×C) arrays.\n",
    "    • For colour images each channel is scored\n",
    "      independently and the mean is returned.\n",
    "    \"\"\"\n",
    "    if x.ndim == 3:                      # H × W × C\n",
    "        μ_x  = x.mean(axis=(0, 1))\n",
    "        μ_y  = y.mean(axis=(0, 1))\n",
    "        σ_x2 = x.var(axis=(0, 1))\n",
    "        σ_y2 = y.var(axis=(0, 1))\n",
    "        σ_xy = ((x - μ_x) * (y - μ_y)).mean(axis=(0, 1))\n",
    "        ssim_c = ((2 * μ_x * μ_y + c1) * (2 * σ_xy + c2)) / \\\n",
    "                 ((μ_x**2 + μ_y**2 + c1) * (σ_x2 + σ_y2 + c2))\n",
    "        return float(ssim_c.mean())      # average over channels\n",
    "    else:                                # 1‑D or 2‑D\n",
    "        μ_x  = x.mean()\n",
    "        μ_y  = y.mean()\n",
    "        σ_x2 = x.var()\n",
    "        σ_y2 = y.var()\n",
    "        σ_xy = ((x - μ_x) * (y - μ_y)).mean()\n",
    "        return float(((2 * μ_x * μ_y + c1) * (2 * σ_xy + c2)) /\n",
    "                     ((μ_x**2 + μ_y**2 + c1) * (σ_x2 + σ_y2 + c2)))"
   ]
  },
  {
   "cell_type": "code",
   "execution_count": 30,
   "metadata": {},
   "outputs": [],
   "source": [
    "def compute_metrics(y_true, y_pred):\n",
    "    \"\"\"\n",
    "    Compute quantitative evaluation metrics between predicted and ground truth images.\n",
    "    Metrics include:\n",
    "        - ABE (Absolute Bias Error)\n",
    "        - MSE (custom Mean Squared Error variant)\n",
    "        - MSE-S (standard Mean Squared Error)\n",
    "        - PSNR (custom variant)\n",
    "        - PSNR-S (standard variant)\n",
    "        - SSIM (Structural Similarity Index)\n",
    "    Args:\n",
    "        y_true (torch.Tensor): Ground truth image tensor. Shape: (1, H, W) or (3, H, W).\n",
    "        y_pred (torch.Tensor): Predicted image tensor. Shape: (1, H, W) or (3, H, W).\n",
    "    Returns:\n",
    "        dict: A dictionary containing the computed metric values.\n",
    "    \"\"\"\n",
    "    y_true = y_true.detach().cpu().numpy().squeeze()\n",
    "    y_pred = y_pred.detach().cpu().numpy().squeeze()\n",
    "\n",
    "    if y_true.ndim == 3 and y_true.shape[0] == 3:\n",
    "        y_true = np.moveaxis(y_true, 0, -1)\n",
    "        y_pred = np.moveaxis(y_pred, 0, -1)\n",
    "\n",
    "    y_true = y_true.astype(np.float64)\n",
    "    y_pred = y_pred.astype(np.float64)\n",
    "\n",
    "    #SSIM\n",
    "    ssim = _ssim_global(y_true, y_pred, c1=1e-4, c2=1e-4)\n",
    "\n",
    "    y_true = y_true.flatten()\n",
    "    y_pred = y_pred.flatten()\n",
    "\n",
    "    #ABE\n",
    "    abe = np.mean(np.abs(y_true - y_pred))\n",
    "\n",
    "    #MSE\n",
    "    y_pred_mean = np.mean(y_pred)\n",
    "    var = np.mean(np.abs(y_true - y_pred_mean))\n",
    "    mse = abe**2 + var\n",
    "\n",
    "    #MSE-S\n",
    "    mse_s = np.mean(np.abs(y_true - y_pred)**2)\n",
    "\n",
    "    #PSNR\n",
    "    psnr = 10*np.log10((np.max(y_pred)**2)/mse)\n",
    "\n",
    "    #PSNR-S\n",
    "    psnr_s = 10*np.log10((np.max(y_pred)**2)/mse_s)\n",
    "\n",
    "\n",
    "    return {\n",
    "        'ABE': abe,\n",
    "        'MSE': mse,\n",
    "        'MSE-S': mse_s,\n",
    "        'PSNR': psnr,\n",
    "        'PSNR-S': psnr_s,\n",
    "        'SSIM-G': ssim\n",
    "        }"
   ]
  },
  {
   "cell_type": "code",
   "execution_count": 31,
   "metadata": {},
   "outputs": [],
   "source": [
    "def evaluate_model_mean(model, test_loader, device='cuda' if torch.cuda.is_available() else 'cpu'):\n",
    "    \"\"\"\n",
    "    Evaluate a trained model on the test set and compute average performance metrics.\n",
    "    The function prints the mean and standard deviation of each metric across the test set.\n",
    "\n",
    "    Args:\n",
    "        model (torch.nn.Module): Trained PyTorch model to be evaluated.\n",
    "        test_loader (DataLoader): DataLoader containing test samples.\n",
    "        device (str): Device to run inference on ('cuda' or 'cpu').\n",
    "    \"\"\"\n",
    "    \n",
    "    \n",
    "    model = model.to(device)\n",
    "    model.eval()\n",
    "\n",
    "    all_metrics ={\n",
    "        'ABE': [],\n",
    "        'MSE': [],\n",
    "        'MSE-S': [],\n",
    "        'PSNR': [],\n",
    "        'PSNR-S': [],\n",
    "        'SSIM': []\n",
    "    }\n",
    "\n",
    "    with torch.no_grad():\n",
    "      for x_batch, y_batch in test_loader:\n",
    "        x_batch, y_batch = x_batch.to(device), y_batch.to(device)\n",
    "        output = model(x_batch)\n",
    "\n",
    "        for i in range(x_batch.size(0)):\n",
    "          metrics = compute_metrics(y_batch[i], output[i])\n",
    "          for key, value in metrics.items():\n",
    "            all_metrics[key].append(value)\n",
    "\n",
    "    for key, value in all_metrics.items():\n",
    "      mean = np.mean(value)\n",
    "      std = np.std(value)\n",
    "      print(f'{key}: {mean:.4f} ± {std:.4f}')"
   ]
  },
  {
   "cell_type": "code",
   "execution_count": 32,
   "metadata": {},
   "outputs": [
    {
     "name": "stdout",
     "output_type": "stream",
     "text": [
      "ABE: 0.0256 ± 0.0088\n",
      "MSE: 0.0317 ± 0.0119\n",
      "MSE-S: 0.0061 ± 0.0055\n",
      "PSNR: 6.9926 ± 2.6735\n",
      "PSNR-S: 15.6140 ± 4.6719\n",
      "SSIM-G: 0.5225 ± 0.1700\n"
     ]
    }
   ],
   "source": [
    "model.load_state_dict(torch.load('best_model.pth'))\n",
    "evaluate_model_mean(model, test_loader)"
   ]
  },
  {
   "cell_type": "markdown",
   "metadata": {},
   "source": [
    "### Save the predictions"
   ]
  },
  {
   "cell_type": "code",
   "execution_count": 33,
   "metadata": {},
   "outputs": [],
   "source": [
    "def save_predictions(model, test_loader, device='cuda' if torch.cuda.is_available() else 'cpu',\n",
    "                     y_true_path='y_true.xlsx', y_pred_path='y_pred.xlsx'):\n",
    "    \"\"\"\n",
    "    Run the model on the test set and save ground truth and predicted outputs to Excel files.\n",
    "\n",
    "    Args:\n",
    "        model (torch.nn.Module): Trained PyTorch model for inference.\n",
    "        test_loader (DataLoader): DataLoader containing test data.\n",
    "        device (str): Device to perform inference on ('cuda' or 'cpu').\n",
    "        y_true_path (str): File path to save ground truth outputs (.xlsx).\n",
    "        y_pred_path (str): File path to save predicted outputs (.xlsx).\n",
    "    \"\"\"\n",
    "    model = model.to(device)\n",
    "    model.eval()\n",
    "    \n",
    "    all_y_true = []\n",
    "    all_y_pred = []\n",
    "    \n",
    "    with torch.no_grad():\n",
    "        for x_batch, y_batch in test_loader:\n",
    "            x_batch = x_batch.to(device)\n",
    "            preds = model(x_batch).cpu().numpy()\n",
    "            y_true = y_batch.cpu().numpy()\n",
    "            \n",
    "            all_y_true.append(y_true)\n",
    "            all_y_pred.append(preds)\n",
    "        \n",
    "    all_y_true = np.vstack(all_y_true)\n",
    "    all_y_pred = np.vstack(all_y_pred)\n",
    "    \n",
    "    pd.DataFrame(all_y_true).T.to_excel(y_true_path, index=False, header=False)\n",
    "    pd.DataFrame(all_y_pred).T.to_excel(y_pred_path, index=False, header=False)"
   ]
  },
  {
   "cell_type": "code",
   "execution_count": 35,
   "metadata": {},
   "outputs": [],
   "source": [
    "model.load_state_dict(torch.load(\"best_model.pth\"))\n",
    "save_predictions(model, test_loader)"
   ]
  }
 ],
 "metadata": {
  "accelerator": "GPU",
  "colab": {
   "collapsed_sections": [
    "4yiyQJY4GPjw"
   ],
   "gpuType": "T4",
   "provenance": []
  },
  "kernelspec": {
   "display_name": "Python [conda env:Orange]",
   "language": "python",
   "name": "conda-env-Orange-py"
  },
  "language_info": {
   "codemirror_mode": {
    "name": "ipython",
    "version": 3
   },
   "file_extension": ".py",
   "mimetype": "text/x-python",
   "name": "python",
   "nbconvert_exporter": "python",
   "pygments_lexer": "ipython3",
   "version": "3.11.8"
  }
 },
 "nbformat": 4,
 "nbformat_minor": 4
}
